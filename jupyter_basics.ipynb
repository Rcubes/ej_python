{
 "cells": [
  {
   "cell_type": "markdown",
   "metadata": {},
   "source": [
    "# Shortcuts básicos"
   ]
  },
  {
   "cell_type": "markdown",
   "metadata": {},
   "source": [
    "* esc + m: transformar una celda en modo markdown  \n",
    "shift + enter: Correr la celda (correr código, renderizar, transformar) y pasar a la siguiente celda.\n",
    "\n",
    "* ctrl + enter: Correr la celda y mantenrse ahí.\n",
    "\n",
    "* alt + enter: Correr la celda y crear una nueva celda abajo"
   ]
  },
  {
   "cell_type": "markdown",
   "metadata": {},
   "source": [
    "# MODO MARKDOWN"
   ]
  },
  {
   "cell_type": "markdown",
   "metadata": {},
   "source": [
    "> NOTA: Pueden hacer doble click sobre la celda o presionar la tecla `Enter` para ver los comandos que renderizan cada texto."
   ]
  },
  {
   "cell_type": "markdown",
   "metadata": {},
   "source": [
    "# Titulo"
   ]
  },
  {
   "cell_type": "markdown",
   "metadata": {},
   "source": [
    "## titulo\n",
    "### titulo\n",
    "#### titulo\n",
    "##### titulo\n",
    "\n",
    "> NOTA: Se debe utilizar # como el indicador de título, entre más # tengan más pequeño será el título."
   ]
  },
  {
   "cell_type": "markdown",
   "metadata": {},
   "source": [
    "### titulo 3\n",
    "\n",
    "> NOTA: Sólo se agrega numeración a los títulos iniciales de cada celda."
   ]
  },
  {
   "cell_type": "markdown",
   "metadata": {},
   "source": [
    "*esto está en cursiva*"
   ]
  },
  {
   "cell_type": "markdown",
   "metadata": {},
   "source": [
    "**esto es negrita**"
   ]
  },
  {
   "cell_type": "markdown",
   "metadata": {},
   "source": [
    "ghjhhkjfhkjhfkdhs *jjfjf* y **fjkjdkhkshsdh**"
   ]
  },
  {
   "cell_type": "markdown",
   "metadata": {},
   "source": [
    "> Esto está escrito en un blockquote y se puede ver cómo aparece más abajo"
   ]
  },
  {
   "cell_type": "markdown",
   "metadata": {},
   "source": [
    "> **Blockquote**: Lorem ipsum dolor sit amet, consectetur adipiscing elit, sed do eiusmod tempor incididunt ut labore et dolore magna aliqua. Ut enim ad minim veniam, quis nostrud exercitation ullamco laboris nisi ut aliquip ex ea commodo consequat. Duis aute irure dolor in reprehenderit in voluptate velit esse cillum dolore eu fugiat nulla pariatur. Excepteur sint occaecat cupidatat non proident, sunt in culpa qui officia deserunt mollit anim id est laborum."
   ]
  },
  {
   "cell_type": "markdown",
   "metadata": {},
   "source": [
    "Esto que aparece abajo es un separador y se hace utilizando '---'."
   ]
  },
  {
   "cell_type": "markdown",
   "metadata": {},
   "source": [
    "---"
   ]
  },
  {
   "cell_type": "markdown",
   "metadata": {},
   "source": [
    "Si necesitas ccrear listas, a continuación puedes ver ejemplos de varios de ellas."
   ]
  },
  {
   "cell_type": "markdown",
   "metadata": {},
   "source": [
    "* primer punto\n",
    "    * segundo punto\n",
    "        * tercer punto"
   ]
  },
  {
   "cell_type": "markdown",
   "metadata": {},
   "source": [
    "1. primer punto\n",
    "2. segundo punto\n",
    "    1. primer subpunto\n",
    "        1. tercer nivel"
   ]
  },
  {
   "cell_type": "markdown",
   "metadata": {},
   "source": [
    "> Es importnte destacar que algunas veces markdown no reconoce los saltos de línea (es decir, el utilizar `Enter` para saltarse de línea). En caso de necesitar un salto de línea, el texto debe terminar con dos espacios  \n",
    "Tal como acabo de hacer."
   ]
  },
  {
   "cell_type": "markdown",
   "metadata": {},
   "source": [
    "una linea  \n",
    "otra linea"
   ]
  },
  {
   "cell_type": "markdown",
   "metadata": {},
   "source": [
    "Es posible utilizar mathjax para la creación de fórmulas matemáticas en Jupyter, para ello es necesario utilizarel operador '$$' para fórmulaas centradas o utilizar '$' para utilizar la fóirmula inline."
   ]
  },
  {
   "cell_type": "markdown",
   "metadata": {},
   "source": [
    "$$\\sum_{i = 1}^N i = \\frac{n(n+1)}{2}$$"
   ]
  },
  {
   "cell_type": "markdown",
   "metadata": {},
   "source": [
    "https://math.meta.stackexchange.com/questions/5020/mathjax-basic-tutorial-and-quick-reference"
   ]
  },
  {
   "cell_type": "markdown",
   "metadata": {},
   "source": [
    "> NOTA: Notar que no es necesario utilizar ningún comando para agregar links. Estos serán detectados automáticamente por Jupyter."
   ]
  },
  {
   "cell_type": "markdown",
   "metadata": {},
   "source": [
    "# Imágenes"
   ]
  },
  {
   "cell_type": "markdown",
   "metadata": {},
   "source": [
    "![](https://images.sftcdn.net/images/t_app-cover-l,f_auto/p/1790a008-96d6-11e6-8047-00163ed833e7/669733406/python-screenshot.png)"
   ]
  },
  {
   "cell_type": "markdown",
   "metadata": {},
   "source": [
    "![](Python.svg.png)"
   ]
  },
  {
   "cell_type": "markdown",
   "metadata": {},
   "source": [
    "# Otros comandos"
   ]
  },
  {
   "cell_type": "markdown",
   "metadata": {},
   "source": [
    "Notar que Jupyter es capaz de entender algunos comandos html. Esto abre un mundo de posibilidades, por lo que en este link es posible entender todos los comandos [html](https://www.w3schools.com/html/) que hay. Pero ac;a una lista de algunos que pueden ser particularmente útiles para tomar nota."
   ]
  },
  {
   "cell_type": "markdown",
   "metadata": {},
   "source": [
    "<font color=\"red\">todo lo que este aca adentro </font> será de color rojo"
   ]
  },
  {
   "cell_type": "markdown",
   "metadata": {},
   "source": [
    "<mark>todo lo que este adentro</mark> estará resaltado"
   ]
  },
  {
   "cell_type": "markdown",
   "metadata": {},
   "source": [
    "`import` utilizar '``' permite generar estilo de código"
   ]
  },
  {
   "cell_type": "markdown",
   "metadata": {},
   "source": [
    "Finalmente es posible utilizar tu Jupyter como línea de comandos (terminal) anteponiendo el signo ! en modo código (esc + y)"
   ]
  },
  {
   "cell_type": "code",
   "execution_count": 1,
   "metadata": {},
   "outputs": [
    {
     "name": "stdout",
     "output_type": "stream",
     "text": [
      "# packages in environment at C:\\Users\\fata2810\\AppData\\Local\\Continuum\\anaconda3\\envs\\MLprojects:\n",
      "#\n",
      "# Name                    Version                   Build  Channel\n",
      "abseil-cpp                20200225.2           ha925a31_2    conda-forge\n",
      "alabaster                 0.7.12                   py37_0  \n",
      "alembic                   1.4.2                    pypi_0    pypi\n",
      "altair                    4.1.0                      py_1    conda-forge\n",
      "appdirs                   1.4.3                    pypi_0    pypi\n",
      "argh                      0.26.2                   py37_0  \n",
      "argon2-cffi               20.1.0           py37he774522_1  \n",
      "arrow-cpp                 0.17.0           py37hdac5e3f_0    conda-forge\n",
      "astor                     0.8.1                    pypi_0    pypi\n",
      "astroid                   2.4.2                    py37_0  \n",
      "astropy                   4.0.1.post1              pypi_0    pypi\n",
      "atomicwrites              1.4.0                      py_0  \n",
      "attrs                     20.1.0                     py_0  \n",
      "autopep8                  1.5.4                      py_0  \n",
      "aws-sdk-cpp               1.7.164          vc14h867dc94_1    conda-forge\n",
      "azure-core                1.6.0                    pypi_0    pypi\n",
      "azure-storage-blob        12.3.2                   pypi_0    pypi\n",
      "babel                     2.8.0                      py_0  \n",
      "backcall                  0.2.0                      py_0  \n",
      "base58                    2.0.1                    pypi_0    pypi\n",
      "bcrypt                    3.2.0            py37he774522_0  \n",
      "black                     19.10b0                  pypi_0    pypi\n",
      "blas                      1.0                         mkl  \n",
      "bleach                    3.1.5                      py_0  \n",
      "blinker                   1.4                      pypi_0    pypi\n",
      "boost-cpp                 1.72.0               h89d28cc_2    conda-forge\n",
      "boto3                     1.14.38                  pypi_0    pypi\n",
      "botocore                  1.17.38                  pypi_0    pypi\n",
      "brotli                    1.0.7                h33f27b4_0  \n",
      "brotlipy                  0.7.0           py37he774522_1000  \n",
      "bzip2                     1.0.8                he774522_0  \n",
      "c-ares                    1.15.0            h62dcd97_1001  \n",
      "ca-certificates           2020.7.22                     0  \n",
      "cached-property           1.5.1                    pypi_0    pypi\n",
      "cachetools                4.1.1                    pypi_0    pypi\n",
      "catalogue                 1.0.0                    py37_1  \n",
      "category-encoders         2.2.2                    pypi_0    pypi\n",
      "certifi                   2020.6.20                py37_0  \n",
      "cffi                      1.14.2           py37h7a1dbc1_0  \n",
      "chardet                   3.0.4                 py37_1003  \n",
      "click                     7.0                      pypi_0    pypi\n",
      "cloudpickle               1.5.0                      py_0  \n",
      "colorama                  0.4.3                      py_0  \n",
      "confuse                   1.3.0                    pypi_0    pypi\n",
      "cryptography              3.0              py37h7a1dbc1_0  \n",
      "curl                      7.71.1               h2a8f88b_1  \n",
      "cycler                    0.10.0                   py37_0  \n",
      "cymem                     2.0.3            py37ha925a31_0  \n",
      "cython                    0.29.17                  pypi_0    pypi\n",
      "cython-blis               0.4.1            py37he774522_1  \n",
      "databricks-cli            0.11.0                   pypi_0    pypi\n",
      "datapackage               1.15.0                   pypi_0    pypi\n",
      "decorator                 4.4.2                      py_0  \n",
      "defusedxml                0.6.0                      py_0  \n",
      "diff-match-patch          20200713                   py_0  \n",
      "docker                    4.2.2                    pypi_0    pypi\n",
      "docopt                    0.6.2                    pypi_0    pypi\n",
      "docutils                  0.15.2                   pypi_0    pypi\n",
      "entrypoints               0.3                      py37_0  \n",
      "enum-compat               0.0.3                    pypi_0    pypi\n",
      "es-core-news-sm           2.3.1                    pypi_0    pypi\n",
      "et-xmlfile                1.0.1                    pypi_0    pypi\n",
      "faker                     4.1.0                    pypi_0    pypi\n",
      "findspark                 1.3.0                    pypi_0    pypi\n",
      "flake8                    3.8.3                      py_0  \n",
      "flask                     1.1.2                    pypi_0    pypi\n",
      "freetype                  2.10.2               hd328e21_0  \n",
      "future                    0.18.2                   py37_1  \n",
      "gevent                    1.4.0                    pypi_0    pypi\n",
      "gevent-websocket          0.10.1                   pypi_0    pypi\n",
      "gflags                    2.2.2                ha925a31_0  \n",
      "gitdb                     4.0.5                    pypi_0    pypi\n",
      "gitpython                 3.1.3                    pypi_0    pypi\n",
      "glog                      0.4.0                h33f27b4_0  \n",
      "gorilla                   0.3.0                    pypi_0    pypi\n",
      "graphviz                  2.38                 hfd603c8_2  \n",
      "greenlet                  0.4.16                   pypi_0    pypi\n",
      "grpc-cpp                  1.28.1               h7c6d948_2    conda-forge\n",
      "hdfs                      2.5.8                    pypi_0    pypi\n"
     ]
    }
   ],
   "source": [
    "!conda list"
   ]
  },
  {
   "cell_type": "markdown",
   "metadata": {},
   "source": [
    "!conda update --all"
   ]
  },
  {
   "cell_type": "markdown",
   "metadata": {},
   "source": [
    "Python Zen"
   ]
  },
  {
   "cell_type": "code",
   "execution_count": 2,
   "metadata": {},
   "outputs": [
    {
     "name": "stdout",
     "output_type": "stream",
     "text": [
      "htmlmin                   0.1.12                   pypi_0    pypi\n",
      "icc_rt                    2019.0.0             h0cc432a_1  \n",
      "icu                       58.2                 ha925a31_3  \n",
      "idna                      2.10                       py_0  \n",
      "ijson                     3.1.1                    pypi_0    pypi\n",
      "imagehash                 4.1.0                    pypi_0    pypi\n",
      "imagesize                 1.2.0                      py_0  \n",
      "imbalanced-learn          0.7.0                      py_1    conda-forge\n",
      "implicit                  0.4.2            py37he350917_0    conda-forge\n",
      "importlib-metadata        1.7.0                    py37_0  \n",
      "importlib_metadata        1.7.0                         0  \n",
      "intel-openmp              2020.2                      254  \n",
      "intervaltree              3.1.0                      py_0  \n",
      "ipykernel                 5.3.4            py37h5ca1d4c_0  \n",
      "ipython                   7.17.0           py37h5ca1d4c_0  \n",
      "ipython_genutils          0.2.0                    py37_0  \n",
      "ipywidgets                7.5.1                      py_0    conda-forge\n",
      "isodate                   0.6.0                    pypi_0    pypi\n",
      "isort                     5.4.2                    py37_0  \n",
      "itsdangerous              1.1.0                    pypi_0    pypi\n",
      "jdcal                     1.4.1                    pypi_0    pypi\n",
      "jedi                      0.17.1                   py37_0  \n",
      "jinja2                    2.10.1                   pypi_0    pypi\n",
      "jmespath                  0.10.0                   pypi_0    pypi\n",
      "joblib                    0.14.1                   pypi_0    pypi\n",
      "jpeg                      9b                   hb83a4c4_2  \n",
      "json5                     0.9.5                      py_0  \n",
      "jsonlines                 1.2.0                    pypi_0    pypi\n",
      "jsonpointer               2.0                      pypi_0    pypi\n",
      "jsonschema                3.2.0                    py37_1  \n",
      "jupyter-contrib-core      0.3.3                    pypi_0    pypi\n",
      "jupyter-contrib-nbextensions 0.5.1                    pypi_0    pypi\n",
      "jupyter-highlight-selected-word 0.2.0                    pypi_0    pypi\n",
      "jupyter-kite              1.0.0                    pypi_0    pypi\n",
      "jupyter-latex-envs        1.4.6                    pypi_0    pypi\n",
      "jupyter-nbextensions-configurator 0.4.1                    pypi_0    pypi\n",
      "jupyter_client            6.1.6                      py_0  \n",
      "jupyter_core              4.6.3                    py37_0  \n",
      "jupyterlab                2.2.2                      py_0    conda-forge\n",
      "jupyterlab_server         1.2.0                      py_0  \n",
      "keyring                   21.3.1                   py37_0  \n",
      "kiwisolver                1.2.0            py37h74a9793_0  \n",
      "koalas                    0.32.0                     py_0    conda-forge\n",
      "krb5                      1.18.2               hc04afaa_0  \n",
      "lazy-object-proxy         1.4.3            py37he774522_0  \n",
      "libcurl                   7.71.1               h2a8f88b_1  \n",
      "libpng                    1.6.37               h2a8f88b_0  \n",
      "libprotobuf               3.11.4               h7bd577a_0  \n",
      "libsodium                 1.0.18               h62dcd97_0  \n",
      "libspatialindex           1.9.3                h33f27b4_0  \n",
      "libssh2                   1.9.0                h7a1dbc1_1  \n",
      "lightfm                   1.15            py37hc8d92b1_1001    conda-forge\n",
      "lightgbm                  2.3.1                    pypi_0    pypi\n",
      "linear-tsv                1.1.0                    pypi_0    pypi\n",
      "llvmlite                  0.33.0                   pypi_0    pypi\n",
      "lxml                      4.5.2                    pypi_0    pypi\n",
      "lz4-c                     1.9.2                h62dcd97_1  \n",
      "m2w64-gcc-libgfortran     5.3.0                         6  \n",
      "m2w64-gcc-libs            5.3.0                         7  \n",
      "m2w64-gcc-libs-core       5.3.0                         7  \n",
      "m2w64-gmp                 6.1.0                         2  \n",
      "m2w64-libwinpthread-git   5.0.0.4634.697f757               2  \n",
      "mako                      1.1.3                    pypi_0    pypi\n",
      "markupsafe                1.1.1            py37hfa6e2cd_1  \n",
      "matplotlib                3.3.0                    pypi_0    pypi\n",
      "matplotlib-base           3.2.2            py37h64f37c6_0  \n",
      "mccabe                    0.6.1                    pypi_0    pypi\n",
      "missingno                 0.4.2                    pypi_0    pypi\n",
      "mistune                   0.8.4           py37hfa6e2cd_1001  \n",
      "mkl                       2020.2                      256  \n",
      "mkl-service               2.3.0            py37hb782905_0  \n",
      "mkl_fft                   1.1.0            py37h45dec08_0  \n",
      "mkl_random                1.1.1            py37h47e9c7a_0  \n",
      "mlflow                    1.9.1                    pypi_0    pypi\n",
      "more-itertools            8.4.0                      py_0  \n",
      "msrest                    0.6.17                   pypi_0    pypi\n",
      "msys2-conda-epoch         20160418                      1  \n",
      "murmurhash                1.0.2            py37h33f27b4_0  \n",
      "nbconvert                 5.6.1                    py37_1  \n",
      "nbformat                  5.0.7                      py_0  \n",
      "networkx                  2.4                      pypi_0    pypi\n",
      "nodejs                    14.7.0                        0    conda-forge\n",
      "notebook                  6.1.1                    py37_0  \n",
      "numba                     0.50.1                   pypi_0    pypi\n",
      "numpy                     1.19.1           py37h5510c5b_0  \n",
      "numpy-base                1.19.1           py37ha3acd2a_0  \n",
      "numpydoc                  1.1.0                      py_0  \n",
      "oauthlib                  3.1.0                    pypi_0    pypi\n",
      "openpyxl                  3.0.5                    pypi_0    pypi\n",
      "openssl                   1.1.1g               he774522_1  \n",
      "packaging                 20.4                       py_0  \n",
      "pandas                    1.0.3            py37h47e9c7a_0  \n",
      "pandas-profiling          2.8.0                    pypi_0    pypi\n",
      "pandoc                    2.10.1                        0  \n",
      "pandocfilters             1.4.2                    py37_1  \n",
      "paramiko                  2.7.1                      py_0  \n",
      "parquet-cpp               1.5.1                         2    conda-forge\n",
      "parso                     0.7.0                      py_0  \n",
      "pathspec                  0.8.0                    pypi_0    pypi\n",
      "pathtools                 0.1.2                      py_1  \n",
      "patsy                     0.5.1                    pypi_0    pypi\n",
      "pexpect                   4.8.0                    py37_1  \n",
      "phik                      0.10.0                   pypi_0    pypi\n",
      "pickleshare               0.7.5                 py37_1001  \n",
      "pillow                    7.2.0                    pypi_0    pypi\n",
      "pip                       20.2.3                   pypi_0    pypi\n",
      "plac                      0.9.6                    py37_1  \n",
      "pluggy                    0.13.1                   py37_0  \n",
      "pmdarima                  1.6.1                    pypi_0    pypi\n",
      "preshed                   3.0.2            py37h33f27b4_1  \n",
      "progressbar2              3.51.4                   pypi_0    pypi\n",
      "prometheus-flask-exporter 0.14.1                   pypi_0    pypi\n",
      "prometheus_client         0.8.0                      py_0  \n",
      "prompt-toolkit            3.0.6                      py_0  \n",
      "protobuf                  3.12.2                   pypi_0    pypi\n",
      "psutil                    5.7.2            py37he774522_0  \n",
      "py                        1.9.0                      py_0  \n",
      "py4j                      0.10.7                   pypi_0    pypi\n",
      "pyarrow                   0.17.0           py37h6dfd932_0    conda-forge\n",
      "pycodestyle               2.6.0                      py_0  \n",
      "pycparser                 2.20                       py_2  \n",
      "pydeck                    0.4.1                    pypi_0    pypi\n",
      "pydocstyle                5.1.0                      py_0  \n",
      "pydotplus                 2.0.2                    pypi_0    pypi\n",
      "pyflakes                  2.2.0                      py_0  \n",
      "pygam                     0.8.0                    pypi_0    pypi\n",
      "pygments                  2.6.1                      py_0  \n",
      "pylint                    2.6.0                    py37_0  \n",
      "pynacl                    1.4.0            py37h62dcd97_1  \n",
      "pyodbc                    4.0.30                   pypi_0    pypi\n",
      "pyopenssl                 19.1.0                     py_1  \n",
      "pyparsing                 2.4.7                      py_0  \n",
      "pypiwin32                 223                      pypi_0    pypi\n",
      "pyqt                      5.9.2            py37h6538335_2  \n",
      "pyrsistent                0.16.0           py37he774522_0  \n",
      "pysocks                   1.7.1                    py37_1  \n",
      "pyspark                   2.4.5                    pypi_0    pypi\n",
      "pytest                    5.4.1                    py37_0  \n",
      "python                    3.7.7                h60c2a47_2  \n",
      "python-dateutil           2.8.1                      py_0  \n",
      "python-editor             1.0.4                    pypi_0    pypi\n",
      "python-graphviz           0.14                       py_0  \n",
      "python-jsonrpc-server     0.3.4                      py_1  \n",
      "python-language-server    0.34.1                   py37_0  \n",
      "python-utils              2.4.0                    pypi_0    pypi\n",
      "python_abi                3.7                     1_cp37m    conda-forge\n",
      "pytz                      2020.1                     py_0  \n",
      "pywavelets                1.1.1                    pypi_0    pypi\n",
      "pywin32                   227              py37he774522_1  \n",
      "pywin32-ctypes            0.2.0                 py37_1001  \n",
      "pywinpty                  0.5.7                    py37_0  \n",
      "pyyaml                    5.3.1                    pypi_0    pypi\n",
      "pyzmq                     19.0.1           py37ha925a31_1  \n",
      "qdarkstyle                2.8.1                      py_0  \n",
      "qt                        5.9.7            vc14h73c81de_0  \n",
      "qtawesome                 0.7.2                      py_0  \n",
      "qtconsole                 4.7.6                      py_0  \n",
      "qtpy                      1.9.0                      py_0  \n",
      "querystring-parser        1.2.4                    pypi_0    pypi\n",
      "quilt                     2.9.15                   pypi_0    pypi\n",
      "re2                       2019.08.01       vc14ha925a31_0  \n",
      "regex                     2020.4.4                 pypi_0    pypi\n",
      "requests                  2.24.0                     py_0  \n",
      "requests-oauthlib         1.3.0                    pypi_0    pypi\n",
      "rfc3986                   1.4.0                    pypi_0    pypi\n",
      "rope                      0.16.0                     py_0  \n",
      "rtree                     0.9.4            py37h21ff451_1  \n",
      "s3transfer                0.3.3                    pypi_0    pypi\n",
      "scikit-learn              0.22.2.post1             pypi_0    pypi\n",
      "scikit-plot               0.3.7                    pypi_0    pypi\n",
      "scipy                     1.5.2            py37h9439919_0  \n",
      "seaborn                   0.11.0                   pypi_0    pypi\n",
      "send2trash                1.5.0                    py37_0  \n",
      "setuptools                49.6.0                   py37_0  \n",
      "sip                       4.19.8           py37h6538335_0  \n",
      "six                       1.15.0                     py_0  \n",
      "smmap                     3.0.4                    pypi_0    pypi\n",
      "snappy                    1.1.8                h33f27b4_0  \n",
      "snowballstemmer           2.0.0                      py_0  \n",
      "sortedcontainers          2.2.2                      py_0  \n",
      "spacy                     2.3.2            py37h1fb7aa8_0    conda-forge\n",
      "sphinx                    3.2.1                      py_0  \n",
      "sphinxcontrib-applehelp   1.0.2                      py_0  \n",
      "sphinxcontrib-devhelp     1.0.2                      py_0  \n",
      "sphinxcontrib-htmlhelp    1.0.3                      py_0  \n",
      "sphinxcontrib-jsmath      1.0.1                      py_0  \n",
      "sphinxcontrib-qthelp      1.0.3                      py_0  \n",
      "sphinxcontrib-serializinghtml 1.1.4                      py_0  \n",
      "spyder                    4.1.4                    py37_0  \n",
      "spyder-kernels            1.9.3                    py37_0  \n",
      "sqlalchemy                1.3.13                   pypi_0    pypi\n",
      "sqlite                    3.33.0               h2a8f88b_0  \n",
      "sqlparse                  0.3.1                    pypi_0    pypi\n",
      "srsly                     1.0.2            py37ha925a31_0  \n",
      "statsmodels               0.11.1                   pypi_0    pypi\n",
      "streamlit                 0.64.0                   pypi_0    pypi\n",
      "tableschema               1.19.3                   pypi_0    pypi\n",
      "tabulate                  0.8.7                    pypi_0    pypi\n",
      "tabulator                 1.52.3                   pypi_0    pypi\n",
      "tangled-up-in-unicode     0.0.6                    pypi_0    pypi\n",
      "terminado                 0.8.3                    py37_0  \n",
      "testpath                  0.4.4                      py_0  \n",
      "text-unidecode            1.3                      pypi_0    pypi\n",
      "thinc                     7.4.1            py37h74a9793_0  \n",
      "threadpoolctl             2.1.0              pyh5ca1d4c_0  \n",
      "thrift-cpp                0.13.0               h1907cbf_2    conda-forge\n",
      "toml                      0.10.0                   pypi_0    pypi\n",
      "toolz                     0.10.0                     py_0  \n",
      "tornado                   6.0.4            py37he774522_1  \n",
      "tqdm                      4.48.2                     py_0  \n",
      "traitlets                 4.3.3                    py37_0  \n",
      "typed-ast                 1.4.1            py37he774522_0  \n",
      "tzlocal                   2.1                      pypi_0    pypi\n",
      "ujson                     1.35             py37hfa6e2cd_0  \n",
      "unicodecsv                0.14.1                   pypi_0    pypi\n",
      "urllib3                   1.25.10                    py_0  \n",
      "validators                0.17.1                   pypi_0    pypi\n",
      "vc                        14.1                 h0510ff6_4  \n",
      "vega_datasets             0.8.0                      py_0    conda-forge\n",
      "visions                   0.4.4                    pypi_0    pypi\n",
      "vs2015_runtime            14.16.27012          hf0eaf9b_3  \n",
      "waitress                  1.4.4                    pypi_0    pypi\n",
      "wasabi                    0.7.1                      py_0  \n",
      "watchdog                  0.9.0                    pypi_0    pypi\n",
      "wcwidth                   0.2.5                      py_0  \n",
      "webencodings              0.5.1                    py37_1  \n",
      "websocket-client          0.57.0                   pypi_0    pypi\n",
      "werkzeug                  0.15.4                   pypi_0    pypi\n",
      "wheel                     0.35.1                     py_0  \n",
      "widgetsnbextension        3.5.1                    py37_0  \n",
      "win_inet_pton             1.1.0                    py37_0  \n",
      "wincertstore              0.2                      py37_0  \n",
      "winpty                    0.4.3                         4  \n",
      "wrapt                     1.12.1                   pypi_0    pypi\n",
      "xlrd                      1.2.0                    pypi_0    pypi\n",
      "xz                        5.2.5                h62dcd97_0  \n",
      "yaml                      0.2.5                he774522_0  \n",
      "yapf                      0.30.0                     py_0  \n",
      "zeromq                    4.3.2                ha925a31_2  \n",
      "zipp                      3.1.0                      py_0  \n",
      "zlib                      1.2.11               h62dcd97_4  \n",
      "zstd                      1.4.4                ha9fde0e_3  \n",
      "The Zen of Python, by Tim Peters\n",
      "\n",
      "Beautiful is better than ugly.\n",
      "Explicit is better than implicit.\n",
      "Simple is better than complex.\n",
      "Complex is better than complicated.\n",
      "Flat is better than nested.\n",
      "Sparse is better than dense.\n",
      "Readability counts.\n",
      "Special cases aren't special enough to break the rules.\n",
      "Although practicality beats purity.\n",
      "Errors should never pass silently.\n",
      "Unless explicitly silenced.\n",
      "In the face of ambiguity, refuse the temptation to guess.\n",
      "There should be one-- and preferably only one --obvious way to do it.\n",
      "Although that way may not be obvious at first unless you're Dutch.\n",
      "Now is better than never.\n",
      "Although never is often better than *right* now.\n",
      "If the implementation is hard to explain, it's a bad idea.\n",
      "If the implementation is easy to explain, it may be a good idea.\n",
      "Namespaces are one honking great idea -- let's do more of those!\n"
     ]
    }
   ],
   "source": [
    "# comentario\n",
    "import this"
   ]
  },
  {
   "cell_type": "markdown",
   "metadata": {},
   "source": [
    "# MODO CÓDIGO"
   ]
  },
  {
   "cell_type": "markdown",
   "metadata": {},
   "source": [
    "En modo código se podrá ver a la izquierda [] indicando que la celda no se ha corrido todavía. Además se podrá ver un numerito que indica el orden de ejecución una vez que ésta se haya corrido. \n",
    "\n",
    "A continuación algunos comandos ultra básicos en Python para probar el módo código.\n",
    "\n",
    "> Nota: El modo código se activa por defecto, pero en caso de estar en modo markdown se debe utilizar esc+y."
   ]
  },
  {
   "cell_type": "markdown",
   "metadata": {},
   "source": [
    "# ASSIGNMENT Y PRINT"
   ]
  },
  {
   "cell_type": "code",
   "execution_count": 3,
   "metadata": {},
   "outputs": [],
   "source": [
    "x = 65"
   ]
  },
  {
   "cell_type": "code",
   "execution_count": 4,
   "metadata": {},
   "outputs": [
    {
     "data": {
      "text/plain": [
       "65"
      ]
     },
     "execution_count": 4,
     "metadata": {},
     "output_type": "execute_result"
    }
   ],
   "source": [
    "x"
   ]
  },
  {
   "cell_type": "code",
   "execution_count": 5,
   "metadata": {},
   "outputs": [],
   "source": [
    "y = - 90"
   ]
  },
  {
   "cell_type": "code",
   "execution_count": 6,
   "metadata": {},
   "outputs": [
    {
     "data": {
      "text/plain": [
       "-90"
      ]
     },
     "execution_count": 6,
     "metadata": {},
     "output_type": "execute_result"
    }
   ],
   "source": [
    "y"
   ]
  },
  {
   "cell_type": "code",
   "execution_count": 7,
   "metadata": {},
   "outputs": [
    {
     "data": {
      "text/plain": [
       "-90"
      ]
     },
     "execution_count": 7,
     "metadata": {},
     "output_type": "execute_result"
    }
   ],
   "source": [
    "x\n",
    "y"
   ]
  },
  {
   "cell_type": "code",
   "execution_count": 8,
   "metadata": {},
   "outputs": [
    {
     "name": "stdout",
     "output_type": "stream",
     "text": [
      "65\n",
      "-90\n"
     ]
    }
   ],
   "source": [
    "print(x)\n",
    "print(y)"
   ]
  },
  {
   "cell_type": "markdown",
   "metadata": {},
   "source": [
    "> NOTA: PYTHON ES CASE SENSITIVE"
   ]
  },
  {
   "cell_type": "code",
   "execution_count": 9,
   "metadata": {},
   "outputs": [
    {
     "ename": "NameError",
     "evalue": "name 'PRINT' is not defined",
     "output_type": "error",
     "traceback": [
      "\u001b[1;31m---------------------------------------------------------------------------\u001b[0m",
      "\u001b[1;31mNameError\u001b[0m                                 Traceback (most recent call last)",
      "\u001b[1;32m<ipython-input-9-cc5201422f24>\u001b[0m in \u001b[0;36m<module>\u001b[1;34m\u001b[0m\n\u001b[1;32m----> 1\u001b[1;33m \u001b[0mPRINT\u001b[0m\u001b[1;33m(\u001b[0m\u001b[0mX\u001b[0m\u001b[1;33m)\u001b[0m \u001b[1;31m# esto lanzará un error ua que no existe el comando PRINT()\u001b[0m\u001b[1;33m\u001b[0m\u001b[1;33m\u001b[0m\u001b[0m\n\u001b[0m",
      "\u001b[1;31mNameError\u001b[0m: name 'PRINT' is not defined"
     ]
    }
   ],
   "source": [
    "PRINT(X) # esto lanzará un error ua que no existe el comando PRINT()"
   ]
  },
  {
   "cell_type": "code",
   "execution_count": 10,
   "metadata": {},
   "outputs": [
    {
     "ename": "NameError",
     "evalue": "name 'Print' is not defined",
     "output_type": "error",
     "traceback": [
      "\u001b[1;31m---------------------------------------------------------------------------\u001b[0m",
      "\u001b[1;31mNameError\u001b[0m                                 Traceback (most recent call last)",
      "\u001b[1;32m<ipython-input-10-beedaa157563>\u001b[0m in \u001b[0;36m<module>\u001b[1;34m\u001b[0m\n\u001b[1;32m----> 1\u001b[1;33m \u001b[0mPrint\u001b[0m\u001b[1;33m(\u001b[0m\u001b[0mx\u001b[0m\u001b[1;33m)\u001b[0m \u001b[1;31m# esto también genra un error\u001b[0m\u001b[1;33m\u001b[0m\u001b[1;33m\u001b[0m\u001b[0m\n\u001b[0m",
      "\u001b[1;31mNameError\u001b[0m: name 'Print' is not defined"
     ]
    }
   ],
   "source": [
    "Print(x) # esto también genra un error"
   ]
  },
  {
   "cell_type": "code",
   "execution_count": 11,
   "metadata": {},
   "outputs": [
    {
     "name": "stdout",
     "output_type": "stream",
     "text": [
      "65\n"
     ]
    }
   ],
   "source": [
    "print(x) # este es el comando correcto"
   ]
  },
  {
   "cell_type": "code",
   "execution_count": 12,
   "metadata": {},
   "outputs": [],
   "source": [
    "X = 32 # la variable X no es lo mismo que x"
   ]
  },
  {
   "cell_type": "code",
   "execution_count": 13,
   "metadata": {},
   "outputs": [
    {
     "name": "stdout",
     "output_type": "stream",
     "text": [
      "32\n",
      "65\n"
     ]
    }
   ],
   "source": [
    "print(X)\n",
    "print(x)"
   ]
  },
  {
   "cell_type": "code",
   "execution_count": 14,
   "metadata": {},
   "outputs": [
    {
     "name": "stdout",
     "output_type": "stream",
     "text": [
      "65 -90 32\n"
     ]
    }
   ],
   "source": [
    "print(x,y,X)"
   ]
  },
  {
   "cell_type": "code",
   "execution_count": 15,
   "metadata": {},
   "outputs": [
    {
     "data": {
      "text/plain": [
       "34"
      ]
     },
     "execution_count": 15,
     "metadata": {},
     "output_type": "execute_result"
    }
   ],
   "source": [
    "x = 34\n",
    "x"
   ]
  },
  {
   "cell_type": "code",
   "execution_count": 16,
   "metadata": {},
   "outputs": [
    {
     "data": {
      "text/plain": [
       "34"
      ]
     },
     "execution_count": 16,
     "metadata": {},
     "output_type": "execute_result"
    }
   ],
   "source": [
    "x"
   ]
  },
  {
   "cell_type": "code",
   "execution_count": 17,
   "metadata": {},
   "outputs": [
    {
     "name": "stdout",
     "output_type": "stream",
     "text": [
      "5\n",
      "1\n",
      "6\n",
      "1.5\n",
      "1\n",
      "9\n",
      "1\n"
     ]
    }
   ],
   "source": [
    "x = 3\n",
    "y = 2\n",
    "print(x+y)\n",
    "print(x-y)\n",
    "\n",
    "print(x * y) # multiplicación\n",
    "print(x / y) # division\n",
    "print(x // y) # división entera\n",
    "print(x ** y) # potencias\n",
    "print(x % y) # modulo"
   ]
  },
  {
   "cell_type": "code",
   "execution_count": 18,
   "metadata": {},
   "outputs": [
    {
     "data": {
      "text/plain": [
       "1"
      ]
     },
     "execution_count": 18,
     "metadata": {},
     "output_type": "execute_result"
    }
   ],
   "source": [
    "1"
   ]
  },
  {
   "cell_type": "code",
   "execution_count": 19,
   "metadata": {},
   "outputs": [
    {
     "data": {
      "text/plain": [
       "2.0"
      ]
     },
     "execution_count": 19,
     "metadata": {},
     "output_type": "execute_result"
    }
   ],
   "source": [
    "4 ** (1/2)"
   ]
  },
  {
   "cell_type": "code",
   "execution_count": 20,
   "metadata": {},
   "outputs": [
    {
     "data": {
      "text/plain": [
       "False"
      ]
     },
     "execution_count": 20,
     "metadata": {},
     "output_type": "execute_result"
    }
   ],
   "source": [
    "x = True\n",
    "y = False\n",
    "\n",
    "x & y # y\n",
    "x | y # o\n",
    "y == x"
   ]
  },
  {
   "cell_type": "code",
   "execution_count": 21,
   "metadata": {},
   "outputs": [
    {
     "data": {
      "text/plain": [
       "False"
      ]
     },
     "execution_count": 21,
     "metadata": {},
     "output_type": "execute_result"
    }
   ],
   "source": [
    "y != y"
   ]
  },
  {
   "cell_type": "code",
   "execution_count": 22,
   "metadata": {},
   "outputs": [
    {
     "data": {
      "text/plain": [
       "True"
      ]
     },
     "execution_count": 22,
     "metadata": {},
     "output_type": "execute_result"
    }
   ],
   "source": [
    "not y"
   ]
  },
  {
   "cell_type": "code",
   "execution_count": 23,
   "metadata": {},
   "outputs": [
    {
     "data": {
      "text/plain": [
       "-1"
      ]
     },
     "execution_count": 23,
     "metadata": {},
     "output_type": "execute_result"
    }
   ],
   "source": [
    "~y # ojo con este comando, que si bien permite la negación, transformará el tipo de dato. "
   ]
  }
 ],
 "metadata": {
  "kernelspec": {
   "display_name": "Python 3",
   "language": "python",
   "name": "python3"
  },
  "language_info": {
   "codemirror_mode": {
    "name": "ipython",
    "version": 3
   },
   "file_extension": ".py",
   "mimetype": "text/x-python",
   "name": "python",
   "nbconvert_exporter": "python",
   "pygments_lexer": "ipython3",
   "version": "3.7.7"
  },
  "toc-autonumbering": true,
  "toc-showmarkdowntxt": true,
  "widgets": {
   "application/vnd.jupyter.widget-state+json": {
    "state": {},
    "version_major": 2,
    "version_minor": 0
   }
  }
 },
 "nbformat": 4,
 "nbformat_minor": 4
}
